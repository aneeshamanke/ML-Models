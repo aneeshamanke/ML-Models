{
 "cells": [
  {
   "cell_type": "code",
   "execution_count": 22,
   "id": "30bb538c",
   "metadata": {},
   "outputs": [],
   "source": [
    "import numpy as np\n",
    "import matplotlib.pyplot as plt\n"
   ]
  },
  {
   "cell_type": "code",
   "execution_count": 23,
   "id": "da662892",
   "metadata": {},
   "outputs": [],
   "source": [
    "X = np.array([[650], [800], [1200], [1500], [2000]])  #size of house\n",
    "y = np.array([[150], [180], [240], [300], [380]])  #price of house\n"
   ]
  },
  {
   "cell_type": "code",
   "execution_count": 24,
   "id": "f3b4df93",
   "metadata": {},
   "outputs": [],
   "source": [
    "weight = [0.9, 1.8, 2.4, 3.5, 3.9, 4.4, 5.1, 5.6, 6.3]\n",
    "size = [1.4, 2.6, 1.0, 3.7, 5.5, 3.2, 3.0, 4.9, 6.3]"
   ]
  },
  {
   "cell_type": "code",
   "execution_count": null,
   "id": "6dcdd5d3",
   "metadata": {},
   "outputs": [],
   "source": [
    "X_flat1=np.array(weight)  #independent\n",
    "y_flat1=np.array(size) #dependent\n"
   ]
  },
  {
   "cell_type": "code",
   "execution_count": 26,
   "id": "0f11cd9e",
   "metadata": {},
   "outputs": [],
   "source": [
    "X_flat=X.flatten()\n",
    "y_flat=y.flatten()\n"
   ]
  },
  {
   "cell_type": "code",
   "execution_count": null,
   "id": "d2266c3d",
   "metadata": {},
   "outputs": [
    {
     "name": "stdout",
     "output_type": "stream",
     "text": [
      "8752500\n",
      "37822500\n"
     ]
    }
   ],
   "source": [
    "#calculating slope and intercept\n",
    "\n",
    "n=len(X_flat)  #size of house\n",
    "sum_x=np.sum(X_flat)\n",
    "sum_y=np.sum(y_flat)\n",
    "sum_xy=np.sum(X_flat*y_flat)\n",
    "sum_x_squared=np.sum(X_flat**2)\n",
    "print(sum_x_squared)\n",
    "print(sum_x**2)\n"
   ]
  },
  {
   "cell_type": "code",
   "execution_count": null,
   "id": "77f915ab",
   "metadata": {},
   "outputs": [
    {
     "name": "stdout",
     "output_type": "stream",
     "text": [
      "153.69\n",
      "1149.2099999999998\n"
     ]
    }
   ],
   "source": [
    "n1=len(X_flat1)\n",
    "sum_x1=np.sum(X_flat1)\n",
    "sum_y1=np.sum(y_flat1)\n",
    "sum_x1y1=np.sum(X_flat1*y_flat1)\n",
    "sum_x1_squared=np.sum(X_flat1**2)\n",
    "print(sum_x1_squared)\n",
    "print(sum_x1**2)\n",
    "print(sum_x1_squared)\n"
   ]
  },
  {
   "cell_type": "code",
   "execution_count": null,
   "id": "61cdd39c",
   "metadata": {},
   "outputs": [],
   "source": []
  },
  {
   "cell_type": "code",
   "execution_count": null,
   "id": "4a3a0a11",
   "metadata": {},
   "outputs": [
    {
     "name": "stdout",
     "output_type": "stream",
     "text": [
      "FORMULA BREAKDOWN:\n",
      "SLOPE: m = (n*Σxy - Σx*Σy) / (n*Σx² - (Σx)²)\n",
      "- Numerator: How much x and y vary together\n",
      "- Denominator: How much x varies by itself\n",
      "- Result: Best average rate of change\n",
      "\n",
      "n* sum of x * y - individual sum of x * individual sum of y divided by n * sum of sum of individual x squares - sum of overall squared\n"
     ]
    }
   ],
   "source": [
    "#FOR SLOPE:-\n",
    "print(\"FORMULA BREAKDOWN:\")\n",
    "print(\"SLOPE: m = (n*Σxy - Σx*Σy) / (n*Σx² - (Σx)²)\") #cov(X,Y)/var(X)\n",
    "print(\"- Numerator: How much x and y vary together\")\n",
    "print(\"- Denominator: How much x varies by itself\")\n",
    "print(\"- Result: Best average rate of change\")\n",
    "print()\n",
    "print(\"n* sum of x * y - individual sum of x * individual sum of y divided by n * sum of sum of individual x squares - sum of overall squared\")"
   ]
  },
  {
   "cell_type": "code",
   "execution_count": null,
   "id": "72e316cd",
   "metadata": {},
   "outputs": [
    {
     "name": "stdout",
     "output_type": "stream",
     "text": [
      "INTERCEPT: b = (Σy - m*Σx) / n\n",
      "- Same as: b = mean(y) - m * mean(x)\n",
      "- Adjusts line to pass through center of data\n",
      "\n",
      "mean of y -slope * mean of x\n"
     ]
    }
   ],
   "source": [
    "#FOR INTERCEPT:- #intercept is the value of y when x is 0\n",
    "print(\"INTERCEPT: b = (Σy - m*Σx) / n\")\n",
    "print(\"- Same as: b = mean(y) - m * mean(x)\")\n",
    "print(\"- Adjusts line to pass through center of data\")\n",
    "print()\n",
    "print(\"mean of y -slope * mean of x\")"
   ]
  },
  {
   "cell_type": "code",
   "execution_count": 31,
   "id": "7616f7bc",
   "metadata": {},
   "outputs": [
    {
     "name": "stdout",
     "output_type": "stream",
     "text": [
      "0.17003367003367004\n"
     ]
    }
   ],
   "source": [
    "#SLOPE:-\n",
    "m=(n*sum_xy-sum_x*sum_y)/(n*sum_x_squared-sum_x**2)\n",
    "print(m)"
   ]
  },
  {
   "cell_type": "code",
   "execution_count": 32,
   "id": "e0974225",
   "metadata": {},
   "outputs": [],
   "source": [
    "m1=(n1*sum_x1y1-sum_x1*sum_y1) / (n1*sum_x1_squared-sum_x1**2)"
   ]
  },
  {
   "cell_type": "code",
   "execution_count": 33,
   "id": "c9e3db90",
   "metadata": {},
   "outputs": [
    {
     "name": "stdout",
     "output_type": "stream",
     "text": [
      "204.29292929292933\n"
     ]
    }
   ],
   "source": [
    "b=(sum_y-m*sum_x)\n",
    "print(b)"
   ]
  },
  {
   "cell_type": "code",
   "execution_count": null,
   "id": "d0bde61f",
   "metadata": {},
   "outputs": [
    {
     "name": "stdout",
     "output_type": "stream",
     "text": [
      "204.29292929292933\n"
     ]
    }
   ],
   "source": [
    "#INTERCEPT:- #intercept is the value of y when x is 0 , its where the line crosses the y axis\n",
    "#  It shifts the line up or down to properly fit through your data points, ensuring the line passes through the center point (mean_x, mean_y).\n",
    "b1=(sum_y1-m1*sum_x1)\n",
    "print(b)"
   ]
  },
  {
   "cell_type": "code",
   "execution_count": 35,
   "id": "d110ff9b",
   "metadata": {},
   "outputs": [
    {
     "name": "stdout",
     "output_type": "stream",
     "text": [
      "[314.81481481 340.31986532 408.33333333 459.34343434 544.36026936]\n"
     ]
    }
   ],
   "source": [
    "y_pred=m*X_flat+b\n",
    "print(y_pred)"
   ]
  },
  {
   "cell_type": "code",
   "execution_count": 36,
   "id": "ff3d5666",
   "metadata": {},
   "outputs": [
    {
     "name": "stdout",
     "output_type": "stream",
     "text": [
      "[ 5.93192308  6.63196154  7.09865385  7.95425641  8.26538462  8.65429487\n",
      "  9.19876923  9.58767949 10.13215385]\n"
     ]
    }
   ],
   "source": [
    "#PREDICTIONS:-\n",
    "y_pred1=m1*X_flat1+b1\n",
    "print(y_pred1)"
   ]
  },
  {
   "cell_type": "code",
   "execution_count": null,
   "id": "e4e17c77",
   "metadata": {},
   "outputs": [],
   "source": []
  },
  {
   "cell_type": "code",
   "execution_count": 37,
   "id": "670d2bbc",
   "metadata": {},
   "outputs": [
    {
     "name": "stdout",
     "output_type": "stream",
     "text": [
      "26710.78461381493\n",
      "163.43434343434348\n"
     ]
    }
   ],
   "source": [
    "mse=(np.mean(y_pred-y_flat)**2)\n",
    "print(mse)\n",
    "rmse=np.sqrt(mse)\n",
    "print(rmse)"
   ]
  },
  {
   "cell_type": "code",
   "execution_count": 38,
   "id": "2e72ef99",
   "metadata": {},
   "outputs": [
    {
     "data": {
      "image/png": "[encoded data removed]",
      "text/plain": [
       "<Figure size 1000x600 with 1 Axes>"
      ]
     },
     "metadata": {},
     "output_type": "display_data"
    }
   ],
   "source": [
    "plt.figure(figsize=(10, 6))\n",
    "plt.scatter(X_flat, y_flat, color='blue', s=100, label='Actual Data', zorder=3)\n",
    "plt.plot(X_flat, y_pred, color='red', linewidth=2, label=f'y = {m:.4f}x + {b:.2f}', zorder=2)\n",
    "\n",
    "plt.xlabel('House Size (sq ft)')\n",
    "plt.ylabel('House Price ($k)')\n",
    "plt.title('Linear Regression: House Size vs Price')\n",
    "plt.legend()\n",
    "plt.grid(True, alpha=0.3)\n",
    "plt.tight_layout()\n",
    "plt.show()"
   ]
  },
  {
   "cell_type": "code",
   "execution_count": 39,
   "id": "a2c9fe3d",
   "metadata": {},
   "outputs": [
    {
     "name": "stdout",
     "output_type": "stream",
     "text": [
      "425.33670033670035\n"
     ]
    }
   ],
   "source": [
    "new_size = 1300\n",
    "predicted_price = m * new_size + b\n",
    "print(predicted_price)\n"
   ]
  },
  {
   "cell_type": "code",
   "execution_count": null,
   "id": "60bc6234",
   "metadata": {},
   "outputs": [
    {
     "name": "stdout",
     "output_type": "stream",
     "text": [
      "-5.73570607661971\n"
     ]
    }
   ],
   "source": [
    "# Intuition of R²:\n",
    "# R² asks: \"How much better is the model than just predicting the average of Y?\"\n",
    "\n",
    "# If your model doesn't use X at all, you'd just predict \n",
    "\n",
    "#   for everything — that's the baseline.\n",
    "\n",
    "# If the model uses X well, the predictions \n",
    "# 𝑦\n",
    "# pred\n",
    "# y \n",
    "# pred\n",
    "# ​\n",
    "# will reduce the error significantly.\n",
    "\n",
    "# R² = 1 means perfect prediction.\n",
    "\n",
    "# R² = 0 means the model is no better than just predicting the mean.\n",
    "\n",
    "# R² < 0 means the model is worse than predicting the mean.\n",
    "\n",
    "# ✅ Final Clarified Summary\n",
    "# R² is a metric for how well predicted Y values approximate the actual Y values.\n",
    "\n",
    "# It compares variance of residuals (model errors) to total variance in the actual data.\n",
    "\n",
    "# X is used by the model to make predictions, but R² is concerned with how well those predictions match the true Y values.\n",
    "\n",
    "\n",
    "mean_y=np.mean(y_flat1) \n",
    "ss_mean=np.sum((y_flat1-mean_y)**2)  #worst fit line  \n",
    "ss_fit=np.sum((y_flat1-y_pred1)**2)\n",
    "R2  = 1 - ss_fit/ss_mean\n",
    "print(R2)\n",
    "#R2 is predicting around the mean."
   ]
  },
  {
   "cell_type": "code",
   "execution_count": 41,
   "id": "c788e3fa",
   "metadata": {},
   "outputs": [
    {
     "name": "stdout",
     "output_type": "stream",
     "text": [
      "R² INTERPRETATION:\n",
      "- -6.975724972700761 of the variation in size is explained by weight\n",
      "- 7.975724972700761 of the variation is due to other factors\n",
      "\n"
     ]
    }
   ],
   "source": [
    "print(\"R² INTERPRETATION:\")\n",
    "print(f\"- {R2} of the variation in size is explained by weight\")\n",
    "print(f\"- {(1-R2)} of the variation is due to other factors\")\n",
    "print()"
   ]
  },
  {
   "cell_type": "code",
   "execution_count": null,
   "id": "f0ac91c3",
   "metadata": {},
   "outputs": [],
   "source": []
  },
  {
   "cell_type": "code",
   "execution_count": null,
   "id": "21794ec2",
   "metadata": {},
   "outputs": [],
   "source": []
  }
 ],
 "metadata": {
  "kernelspec": {
   "display_name": "base",
   "language": "python",
   "name": "python3"
  },
  "language_info": {
   "codemirror_mode": {
    "name": "ipython",
    "version": 3
   },
   "file_extension": ".py",
   "mimetype": "text/x-python",
   "name": "python",
   "nbconvert_exporter": "python",
   "pygments_lexer": "ipython3",
   "version": "3.9.13"
  }
 },
 "nbformat": 4,
 "nbformat_minor": 5
}
