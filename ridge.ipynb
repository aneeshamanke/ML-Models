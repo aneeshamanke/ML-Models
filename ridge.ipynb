{
 "cells": [
  {
   "cell_type": "code",
   "execution_count": 2,
   "id": "10ae4ac0",
   "metadata": {},
   "outputs": [],
   "source": [
    "import numpy as np\n",
    "import matplotlib.pyplot as plt\n"
   ]
  },
  {
   "cell_type": "code",
   "execution_count": 3,
   "id": "da35662d",
   "metadata": {},
   "outputs": [],
   "source": [
    "class SimpleRidge:\n",
    "    def __init__(self,alpha=1.0):\n",
    "        self.alpha=alpha\n",
    "        self.weights=None\n",
    "        \n",
    "    def fit(self,X,y):\n",
    "        \"\"\"\n",
    "        Fit ridge using the normal equation\n",
    "        w = (X^T X + αI)^(-1) X^T y\n",
    "        \"\"\"\n",
    "        XtX=X.T @ X\n",
    "        I=np.eye(X.shape[1])\n",
    "        XtX_reg=XtX+self.alpha*I\n",
    "        Xty=X.T @y\n",
    "        \n",
    "        self.weights=np.linalg.solve(XtX_reg,Xty)\n",
    "        return self\n",
    "    \n",
    "    def predict(self,X):\n",
    "        return X @ self.weights\n",
    "    \n",
    "        \n",
    "        "
   ]
  },
  {
   "cell_type": "code",
   "execution_count": 4,
   "id": "839a266e",
   "metadata": {},
   "outputs": [
    {
     "name": "stdout",
     "output_type": "stream",
     "text": [
      "RIDGE REGRESSION\n",
      "Dataset: Predicting House Prices\n",
      "Features: [Size (1000 sqft), Age (years)]\n",
      "Target: Price ($100k)\n",
      "True relationship: Price = 100*Size - 2*Age\n",
      "True weights: [100  -2]\n",
      "\n",
      "Results for different regularization strengths:\n",
      "Alpha\tWeights\t\t\tMeaning\n",
      "------------------------------------------------------------\n",
      "0\t[101.9, -2.1]\t\t$102k per 1000sqft, $-2k per year\n",
      "1\t[95.6, -1.2]\t\t$96k per 1000sqft, $-1k per year\n",
      "10\t[61.7, 3.6]\t\t$62k per 1000sqft, $4k per year\n",
      "\n",
      "Observation:\n",
      "- Alpha=0: No regularization (standard linear regression)\n",
      "- Alpha>0: Weights shrink toward zero\n",
      "- Higher alpha: More shrinkage, simpler model\n"
     ]
    }
   ],
   "source": [
    "def demo():\n",
    "    print(\"RIDGE REGRESSION\")\n",
    "    \n",
    "    np.random.seed(42)\n",
    "    X = np.array([\n",
    "        [1.0, 5],   # 1000 sqft, 5 years old\n",
    "        [1.5, 10],  # 1500 sqft, 10 years old  \n",
    "        [2.0, 3],   # 2000 sqft, 3 years old\n",
    "        [2.5, 15],  # 2500 sqft, 15 years old\n",
    "        [3.0, 8],   # 3000 sqft, 8 years old\n",
    "        [1.2, 20],  # 1200 sqft, 20 years old\n",
    "        [2.8, 2],   # 2800 sqft, 2 years old\n",
    "        [1.8, 12]   # 1800 sqft, 12 years old\n",
    "    ])\n",
    "    true_weights = np.array([100, -2])  # $100k per 1000sqft, -$2k per year\n",
    "    y = X @ true_weights + np.random.normal(0, 5, 8)  # Add some noise\n",
    "    \n",
    "    print(\"Dataset: Predicting House Prices\")\n",
    "    print(\"Features: [Size (1000 sqft), Age (years)]\")\n",
    "    print(\"Target: Price ($100k)\")\n",
    "    print(f\"True relationship: Price = 100*Size - 2*Age\")\n",
    "    print(f\"True weights: {true_weights}\")\n",
    "    print()\n",
    "    \n",
    "    # Test different regularization strengths\n",
    "    alphas = [0, 1, 10]\n",
    "    \n",
    "    print(\"Results for different regularization strengths:\")\n",
    "    print(\"Alpha\\tWeights\\t\\t\\tMeaning\")\n",
    "    print(\"-\" * 60)\n",
    "    \n",
    "    for alpha in alphas:\n",
    "        ridge = SimpleRidge(alpha=alpha)\n",
    "        ridge.fit(X, y)\n",
    "        \n",
    "        size_coef = ridge.weights[0]\n",
    "        age_coef = ridge.weights[1]\n",
    "        \n",
    "        print(f\"{alpha}\\t[{size_coef:.1f}, {age_coef:.1f}]\\t\\t\"\n",
    "              f\"${size_coef:.0f}k per 1000sqft, ${age_coef:.0f}k per year\")\n",
    "    \n",
    "    print(\"\\nObservation:\")\n",
    "    print(\"- Alpha=0: No regularization (standard linear regression)\")\n",
    "    print(\"- Alpha>0: Weights shrink toward zero\")\n",
    "    print(\"- Higher alpha: More shrinkage, simpler model\")\n",
    "\n",
    "if __name__ == \"__main__\":\n",
    "    demo()\n",
    "    \n",
    "    "
   ]
  },
  {
   "cell_type": "code",
   "execution_count": null,
   "metadata": {},
   "outputs": [],
   "source": [
    "\"\"\"\n",
    "J(w) = Σ_i (actual_i − predicted_i)^2 = ‖y − Xw‖² . -> OLS\n",
    "∇J = −2 Xᵀ (y − Xw) . -> Differentiate using weight vector\n",
    "−2 Xᵀ (y − Xw) = 0   ⟹   Xᵀ X w = Xᵀ y . -> Set the gradient to zero to locate the minimum\n",
    "\n",
    "w = (Xᵀ X)⁻¹ Xᵀ y . -> the main equation.\n",
    "\n",
    "This closed-form expression comes directly from differentiating the squared-error term (actual − predicted)^2 and gives the unique coefficient vector that minimises that loss.\n",
    "\n",
    "\"\"\""
   ]
  },
  {
   "cell_type": "code",
   "execution_count": null,
   "id": "55680d2c",
   "metadata": {},
   "outputs": [],
   "source": []
  },
  {
   "cell_type": "code",
   "execution_count": null,
   "id": "82c465fe",
   "metadata": {},
   "outputs": [],
   "source": []
  },
  {
   "cell_type": "code",
   "execution_count": null,
   "id": "2be5d132",
   "metadata": {},
   "outputs": [],
   "source": []
  },
  {
   "cell_type": "code",
   "execution_count": null,
   "id": "1a91843a",
   "metadata": {},
   "outputs": [],
   "source": []
  },
  {
   "cell_type": "code",
   "execution_count": null,
   "id": "b28fe6ba",
   "metadata": {},
   "outputs": [],
   "source": []
  }
 ],
 "metadata": {
  "kernelspec": {
   "display_name": "base",
   "language": "python",
   "name": "python3"
  },
  "language_info": {
   "codemirror_mode": {
    "name": "ipython",
    "version": 3
   },
   "file_extension": ".py",
   "mimetype": "text/x-python",
   "name": "python",
   "nbconvert_exporter": "python",
   "pygments_lexer": "ipython3",
   "version": "3.9.13"
  }
 },
 "nbformat": 4,
 "nbformat_minor": 5
}
