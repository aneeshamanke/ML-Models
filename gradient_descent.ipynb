{
 "cells": [
  {
   "cell_type": "code",
   "execution_count": 8,
   "id": "37d6effc",
   "metadata": {},
   "outputs": [],
   "source": [
    "#gradient descent using LINEAR REGRESSION\n"
   ]
  },
  {
   "cell_type": "code",
   "execution_count": 1,
   "id": "8dd35f32",
   "metadata": {},
   "outputs": [],
   "source": [
    "import numpy as np"
   ]
  },
  {
   "cell_type": "code",
   "execution_count": 2,
   "id": "57bad419",
   "metadata": {},
   "outputs": [],
   "source": [
    "X = np.array([1, 2, 3, 4, 5])  \n",
    "y = np.array([2, 4, 6, 8, 10]) \n"
   ]
  },
  {
   "cell_type": "code",
   "execution_count": 4,
   "id": "d2bdadc2",
   "metadata": {},
   "outputs": [],
   "source": [
    "m=0.0  #slope\n",
    "b=0.0  #intercept\n",
    "lr=0.01\n",
    "iter=100\n",
    "n=len(X)"
   ]
  },
  {
   "cell_type": "code",
   "execution_count": null,
   "id": "312f9def",
   "metadata": {},
   "outputs": [
    {
     "name": "stdout",
     "output_type": "stream",
     "text": [
      "Iteration 0: m = 1.949, b = 0.186, cost = 0.006\n",
      "Iteration 10: m = 1.950, b = 0.179, cost = 0.006\n",
      "Iteration 20: m = 1.952, b = 0.173, cost = 0.006\n",
      "Iteration 30: m = 1.954, b = 0.168, cost = 0.005\n",
      "Iteration 40: m = 1.955, b = 0.162, cost = 0.005\n",
      "Iteration 50: m = 1.957, b = 0.157, cost = 0.005\n",
      "Iteration 60: m = 1.958, b = 0.152, cost = 0.004\n",
      "Iteration 70: m = 1.959, b = 0.146, cost = 0.004\n",
      "Iteration 80: m = 1.961, b = 0.142, cost = 0.004\n",
      "Iteration 90: m = 1.962, b = 0.137, cost = 0.003\n",
      "\n",
      "Final result: y = 1.963x + 0.133\n"
     ]
    }
   ],
   "source": [
    "#using lr- y=mx+b\n",
    "for i in range(iter):\n",
    "    y_pred=m*X+b\n",
    "    cost=(1/n)*sum((y_pred-y)**2)\n",
    "    dm=(2/n)*sum((y_pred-y)*X) #derivative wrt to m dcost/dm ->slope\n",
    "    db=(2/n)*sum(y_pred-y)  #derivative wrt to b dcost/db -> intercept\n",
    "    \n",
    "    #update params\n",
    "    m=m-lr*dm\n",
    "    b=b-lr*db\n",
    "\n",
    "    if i%10==0:\n",
    "        print(f\"Iteration {i}: m = {m:.3f}, b = {b:.3f}, cost = {cost:.3f}\")\n",
    "    \n",
    "print(f\"\\nFinal result: y = {m:.3f}x + {b:.3f}\")\n"
   ]
  },
  {
   "cell_type": "code",
   "execution_count": null,
   "id": "f080bfb3",
   "metadata": {},
   "outputs": [],
   "source": []
  },
  {
   "cell_type": "code",
   "execution_count": null,
   "id": "34b8c445",
   "metadata": {},
   "outputs": [],
   "source": []
  },
  {
   "cell_type": "code",
   "execution_count": null,
   "id": "22688242",
   "metadata": {},
   "outputs": [],
   "source": []
  }
 ],
 "metadata": {
  "kernelspec": {
   "display_name": "base",
   "language": "python",
   "name": "python3"
  },
  "language_info": {
   "codemirror_mode": {
    "name": "ipython",
    "version": 3
   },
   "file_extension": ".py",
   "mimetype": "text/x-python",
   "name": "python",
   "nbconvert_exporter": "python",
   "pygments_lexer": "ipython3",
   "version": "3.12.2"
  }
 },
 "nbformat": 4,
 "nbformat_minor": 5
}
